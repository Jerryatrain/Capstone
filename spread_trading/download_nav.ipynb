{
 "cells": [
  {
   "cell_type": "code",
   "execution_count": 4,
   "id": "97f1a91d",
   "metadata": {},
   "outputs": [],
   "source": [
    "from selenium import webdriver\n",
    "from selenium.webdriver.common.by import By\n",
    "from selenium.webdriver.support.ui import WebDriverWait\n",
    "from selenium.webdriver.support import expected_conditions as EC\n",
    "import pandas as pd\n",
    "import time\n",
    "\n",
    "\n"
   ]
  },
  {
   "cell_type": "code",
   "execution_count": null,
   "id": "69340c23",
   "metadata": {},
   "outputs": [],
   "source": [
    "driver = webdriver.Chrome()\n",
    "driver.get(\"https://e.gtfund.com/Etrade/Jijin/view/id/513100\")\n",
    "\n",
    "start_date = \"2022-04-25\"\n",
    "end_date = \"2025-04-14\"\n",
    "\n",
    "start_date_input = driver.find_element(By.ID, \"startdate_jingzhi\")\n",
    "start_date_input.clear()\n",
    "start_date_input.send_keys(start_date)\n",
    "\n",
    "end_date_input = driver.find_element(By.ID, \"enddate_jingzhi\")\n",
    "end_date_input.clear()\n",
    "end_date_input.send_keys(end_date)\n",
    "\n",
    "\n",
    "\n",
    "wait = WebDriverWait(driver, 10)\n",
    "# Updated to target the div with class \"nav-table J_jingzhilist J_shouyilist gt-padding-v\"\n",
    "table_container = wait.until(EC.presence_of_element_located((By.CLASS_NAME, \"nav-table.J_jingzhilist.J_shouyilist.gt-padding-v\")))\n",
    "\n",
    "data = []\n",
    "table = table_container.find_element(By.CLASS_NAME, \"baseinfo\")\n",
    "rows = table.find_elements(By.TAG_NAME, \"tr\")\n",
    "for row in rows[1:]:\n",
    "    cols = row.find_elements(By.TAG_NAME, \"td\")\n",
    "    if len(cols) >= 3:\n",
    "        date = cols[0].text\n",
    "        unit_net_value = cols[1].text\n",
    "        daily_growth_rate = cols[2].text\n",
    "        data.append([date, unit_net_value, daily_growth_rate])\n",
    "\n",
    "while True:\n",
    "    next_page = driver.find_elements(By.CSS_SELECTOR, \"a.next\")\n",
    "    if next_page and \"disabled\" not in next_page[0].get_attribute(\"class\"):\n",
    "        next_page[0].click()\n",
    "        time.sleep(2)\n",
    "        # Re-target the div after pagination\n",
    "        table_container = driver.find_element(By.CLASS_NAME, \"nav-table.J_jingzhilist.J_shouyilist.gt-padding-v\")\n",
    "        table = table_container.find_element(By.CLASS_NAME, \"baseinfo\")\n",
    "        rows = table.find_elements(By.TAG_NAME, \"tr\")\n",
    "        for row in rows[1:]:\n",
    "            cols = row.find_elements(By.TAG_NAME, \"td\")\n",
    "            if len(cols) >= 3:\n",
    "                date = cols[0].text\n",
    "                unit_net_value = cols[1].text\n",
    "                daily_growth_rate = cols[2].text\n",
    "                data.append([date, unit_net_value, daily_growth_rate])\n",
    "    else:\n",
    "        break\n",
    "\n",
    "df = pd.DataFrame(data, columns=[\"Date\", \"Unit Net Value\", \"Daily Growth Rate\"])\n",
    "df.to_csv(\"fund_data.csv\", index=False)\n",
    "driver.quit()"
   ]
  },
  {
   "cell_type": "code",
   "execution_count": null,
   "id": "8ef8ea1c",
   "metadata": {},
   "outputs": [
    {
     "ename": "TimeoutException",
     "evalue": "Message: \nStacktrace:\n0   chromedriver                        0x00000001045c6dec cxxbridge1$str$ptr + 2817040\n1   chromedriver                        0x00000001045bf088 cxxbridge1$str$ptr + 2784940\n2   chromedriver                        0x00000001041068d8 cxxbridge1$string$len + 93028\n3   chromedriver                        0x000000010414d6a0 cxxbridge1$string$len + 383276\n4   chromedriver                        0x000000010418e7b8 cxxbridge1$string$len + 649796\n5   chromedriver                        0x0000000104141a80 cxxbridge1$string$len + 335116\n6   chromedriver                        0x000000010458bc74 cxxbridge1$str$ptr + 2575000\n7   chromedriver                        0x000000010458ef40 cxxbridge1$str$ptr + 2588004\n8   chromedriver                        0x000000010456b9fc cxxbridge1$str$ptr + 2443296\n9   chromedriver                        0x000000010458f7bc cxxbridge1$str$ptr + 2590176\n10  chromedriver                        0x000000010455caf0 cxxbridge1$str$ptr + 2382100\n11  chromedriver                        0x00000001045af9a0 cxxbridge1$str$ptr + 2721732\n12  chromedriver                        0x00000001045afb2c cxxbridge1$str$ptr + 2722128\n13  chromedriver                        0x00000001045becd4 cxxbridge1$str$ptr + 2783992\n14  libsystem_pthread.dylib             0x000000019f021c0c _pthread_start + 136\n15  libsystem_pthread.dylib             0x000000019f01cb80 thread_start + 8\n",
     "output_type": "error",
     "traceback": [
      "\u001b[31m---------------------------------------------------------------------------\u001b[39m",
      "\u001b[31mTimeoutException\u001b[39m                          Traceback (most recent call last)",
      "\u001b[36mCell\u001b[39m\u001b[36m \u001b[39m\u001b[32mIn[7]\u001b[39m\u001b[32m, line 13\u001b[39m\n\u001b[32m     11\u001b[39m wait = WebDriverWait(driver, \u001b[32m10\u001b[39m)\n\u001b[32m     12\u001b[39m \u001b[38;5;66;03m# Updated to target the div with class \"nav-table J_jingzhilist J_shouyilist gt-padding-v\"\u001b[39;00m\n\u001b[32m---> \u001b[39m\u001b[32m13\u001b[39m table_container = \u001b[43mwait\u001b[49m\u001b[43m.\u001b[49m\u001b[43muntil\u001b[49m\u001b[43m(\u001b[49m\u001b[43mEC\u001b[49m\u001b[43m.\u001b[49m\u001b[43mpresence_of_element_located\u001b[49m\u001b[43m(\u001b[49m\u001b[43m(\u001b[49m\u001b[43mBy\u001b[49m\u001b[43m.\u001b[49m\u001b[43mCLASS_NAME\u001b[49m\u001b[43m,\u001b[49m\u001b[43m \u001b[49m\u001b[33;43m\"\u001b[39;49m\u001b[33;43mtable-cont\u001b[39;49m\u001b[33;43m\"\u001b[39;49m\u001b[43m)\u001b[49m\u001b[43m)\u001b[49m\u001b[43m)\u001b[49m\n",
      "\u001b[36mFile \u001b[39m\u001b[32m/opt/anaconda3/envs/jitang/lib/python3.12/site-packages/selenium/webdriver/support/wait.py:146\u001b[39m, in \u001b[36mWebDriverWait.until\u001b[39m\u001b[34m(self, method, message)\u001b[39m\n\u001b[32m    144\u001b[39m         \u001b[38;5;28;01mbreak\u001b[39;00m\n\u001b[32m    145\u001b[39m     time.sleep(\u001b[38;5;28mself\u001b[39m._poll)\n\u001b[32m--> \u001b[39m\u001b[32m146\u001b[39m \u001b[38;5;28;01mraise\u001b[39;00m TimeoutException(message, screen, stacktrace)\n",
      "\u001b[31mTimeoutException\u001b[39m: Message: \nStacktrace:\n0   chromedriver                        0x00000001045c6dec cxxbridge1$str$ptr + 2817040\n1   chromedriver                        0x00000001045bf088 cxxbridge1$str$ptr + 2784940\n2   chromedriver                        0x00000001041068d8 cxxbridge1$string$len + 93028\n3   chromedriver                        0x000000010414d6a0 cxxbridge1$string$len + 383276\n4   chromedriver                        0x000000010418e7b8 cxxbridge1$string$len + 649796\n5   chromedriver                        0x0000000104141a80 cxxbridge1$string$len + 335116\n6   chromedriver                        0x000000010458bc74 cxxbridge1$str$ptr + 2575000\n7   chromedriver                        0x000000010458ef40 cxxbridge1$str$ptr + 2588004\n8   chromedriver                        0x000000010456b9fc cxxbridge1$str$ptr + 2443296\n9   chromedriver                        0x000000010458f7bc cxxbridge1$str$ptr + 2590176\n10  chromedriver                        0x000000010455caf0 cxxbridge1$str$ptr + 2382100\n11  chromedriver                        0x00000001045af9a0 cxxbridge1$str$ptr + 2721732\n12  chromedriver                        0x00000001045afb2c cxxbridge1$str$ptr + 2722128\n13  chromedriver                        0x00000001045becd4 cxxbridge1$str$ptr + 2783992\n14  libsystem_pthread.dylib             0x000000019f021c0c _pthread_start + 136\n15  libsystem_pthread.dylib             0x000000019f01cb80 thread_start + 8\n"
     ]
    }
   ],
   "source": []
  },
  {
   "cell_type": "code",
   "execution_count": null,
   "id": "d7d7b2c7",
   "metadata": {},
   "outputs": [
    {
     "ename": "AttributeError",
     "evalue": "'function' object has no attribute 'find_element'",
     "output_type": "error",
     "traceback": [
      "\u001b[31m---------------------------------------------------------------------------\u001b[39m",
      "\u001b[31mAttributeError\u001b[39m                            Traceback (most recent call last)",
      "\u001b[36mCell\u001b[39m\u001b[36m \u001b[39m\u001b[32mIn[11]\u001b[39m\u001b[32m, line 2\u001b[39m\n\u001b[32m      1\u001b[39m data = []\n\u001b[32m----> \u001b[39m\u001b[32m2\u001b[39m table = \u001b[43mtable_container\u001b[49m\u001b[43m.\u001b[49m\u001b[43mfind_element\u001b[49m(By.CLASS_NAME, \u001b[33m\"\u001b[39m\u001b[33mbaseinfo\u001b[39m\u001b[33m\"\u001b[39m)\n\u001b[32m      3\u001b[39m rows = table.find_elements(By.TAG_NAME, \u001b[33m\"\u001b[39m\u001b[33mtr\u001b[39m\u001b[33m\"\u001b[39m)\n",
      "\u001b[31mAttributeError\u001b[39m: 'function' object has no attribute 'find_element'"
     ]
    }
   ],
   "source": []
  }
 ],
 "metadata": {
  "kernelspec": {
   "display_name": "jitang",
   "language": "python",
   "name": "python3"
  },
  "language_info": {
   "codemirror_mode": {
    "name": "ipython",
    "version": 3
   },
   "file_extension": ".py",
   "mimetype": "text/x-python",
   "name": "python",
   "nbconvert_exporter": "python",
   "pygments_lexer": "ipython3",
   "version": "3.12.9"
  }
 },
 "nbformat": 4,
 "nbformat_minor": 5
}
